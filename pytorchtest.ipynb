{
 "cells": [
  {
   "cell_type": "code",
   "execution_count": 1,
   "metadata": {},
   "outputs": [
    {
     "name": "stdout",
     "output_type": "stream",
     "text": [
      "torch.Size([3, 224, 224])\n",
      "torch.Size([3, 224, 224])\n",
      "torch.Size([3, 224, 224])\n"
     ]
    }
   ],
   "source": [
    "import torch\n",
    "import torchvision\n",
    "from torchvision import transforms, models\n",
    "from torch.utils.data import Dataset, DataLoader\n",
    "from torch.nn import CrossEntropyLoss\n",
    "from torch.optim import SGD\n",
    "\n",
    "# Load the image\n",
    "data = \"./components/download.jpg\"\n",
    "nocat= \"./components/nocat.jpg\"\n",
    "image_tensor = torchvision.io.read_image(data)\n",
    "notCAT = torchvision.io.read_image(nocat)\n",
    "t2 = torchvision.io.read_image(data)\n",
    "# Normalize the tensor to have values between 0 and 1 if it's in uint8\n",
    "if image_tensor.dtype == torch.uint8:\n",
    "    image_tensor = image_tensor.float() / 255\n",
    "    t2 =t2.float()/255\n",
    "\n",
    "if notCAT.dtype == torch.uint8:\n",
    "    notCAT = notCAT.float() / 255\n",
    "\n",
    "# Define the transformations\n",
    "# Note: Ensure transforms.ToPILImage() is only used if necessary for compatibility with Resize\n",
    "transform = transforms.Compose([\n",
    "    transforms.Resize((224, 224)),  # Resize the image to 224x224\n",
    "    transforms.Normalize(mean=[0.485, 0.456, 0.406], std=[0.229, 0.224, 0.225])\n",
    "])\n",
    "\n",
    "# Apply the transformation\n",
    "# If the image tensor is not a PIL Image, convert it before applying Resize\n",
    "if not isinstance(image_tensor, torch.FloatTensor):  # Check if it's already a FloatTensor\n",
    "    image_tensor = transforms.ToPILImage()(image_tensor)\n",
    "    t2 = transforms.ToPILImage()(t2)\n",
    "\n",
    "if not isinstance(notCAT, torch.FloatTensor):  # Check if it's already a FloatTensor\n",
    "    notCat = transforms.ToPILImage()(notCAT)\n",
    "image_tensor = transform(image_tensor)\n",
    "t2 = transform(t2)\n",
    "notCAT = transform(notCAT)\n",
    "\n",
    "# Check the shape\n",
    "print(image_tensor.shape)\n",
    "print(notCAT.shape)  # Should be [3, 224, 224]\n",
    "\n",
    "# Add a batch dimension if necessary\n",
    "# if image_tensor.dim() == 3:\n",
    "#     image_tensor = image_tensor.unsqueeze(0)  # Should now be [1, 3, 224, 224]\n",
    "\n",
    "# Check the final shape\n",
    "print(image_tensor.shape)  # Should be [1, 3, 224, 224]\n"
   ]
  },
  {
   "cell_type": "code",
   "execution_count": 2,
   "metadata": {},
   "outputs": [
    {
     "name": "stdout",
     "output_type": "stream",
     "text": [
      "torch.Size([3, 224, 224])\n",
      "torch.Size([3, 224, 224])\n",
      "torch.Size([1, 3, 224, 224])\n"
     ]
    },
    {
     "name": "stderr",
     "output_type": "stream",
     "text": [
      "c:\\Users\\chaha\\anaconda3\\envs\\cs4262\\lib\\site-packages\\torchvision\\models\\_utils.py:208: UserWarning: The parameter 'pretrained' is deprecated since 0.13 and may be removed in the future, please use 'weights' instead.\n",
      "  warnings.warn(\n",
      "c:\\Users\\chaha\\anaconda3\\envs\\cs4262\\lib\\site-packages\\torchvision\\models\\_utils.py:223: UserWarning: Arguments other than a weight enum or `None` for 'weights' are deprecated since 0.13 and may be removed in the future. The current behavior is equivalent to passing `weights=None`.\n",
      "  warnings.warn(msg)\n"
     ]
    },
    {
     "name": "stdout",
     "output_type": "stream",
     "text": [
      "Epoch 1, Loss: 0.6089518666267395\n",
      "torch.Size([1, 3, 224, 224])\n",
      "Epoch 2, Loss: 0.4745875895023346\n",
      "torch.Size([1, 3, 224, 224])\n",
      "Epoch 3, Loss: 0.29034316539764404\n",
      "torch.Size([1, 3, 224, 224])\n",
      "Epoch 4, Loss: 0.15506523847579956\n",
      "torch.Size([1, 3, 224, 224])\n",
      "Epoch 5, Loss: 0.08514083176851273\n"
     ]
    }
   ],
   "source": [
    "print(image_tensor.shape)\n",
    "class SimpleDataset(Dataset):\n",
    "    def __init__(self, image):\n",
    "        self.image = image\n",
    "\n",
    "    def __len__(self):\n",
    "        return 1  # We have only one image\n",
    "\n",
    "    def __getitem__(self, idx):\n",
    "        return self.image\n",
    "\n",
    "dataset = SimpleDataset(image_tensor)\n",
    "dataloader = DataLoader(dataset)\n",
    "\n",
    "# Define the model\n",
    "model = models.resnet18(pretrained=False)\n",
    "num_ftrs = model.fc.in_features\n",
    "model.fc = torch.nn.Linear(num_ftrs, 2)  # Assuming 2 classes\n",
    "\n",
    "# Define the loss function and optimizer\n",
    "criterion = torch.nn.CrossEntropyLoss()\n",
    "optimizer = torch.optim.SGD(model.parameters(), lr=0.001, momentum=0.9)\n",
    "print(image_tensor.shape)\n",
    "\n",
    "# Run the model on the image (for inference)\n",
    "model.eval()  # Set the model to evaluation mode\n",
    "# with torch.no_grad():\n",
    "\n",
    "#     outputs = model(image_tensor)\n",
    "#     print(outputs)\n",
    "# print(image_tensor.shape)\n",
    "\n",
    "# Train the model on the image\n",
    "num_epochs = 5  # Number of epochs\n",
    "model.train()  # Set the model to training mode\n",
    "for epoch in range(num_epochs):\n",
    "    for inputs in dataloader:\n",
    "        print(inputs.shape)\n",
    "        optimizer.zero_grad()\n",
    "        outputs = model(inputs)\n",
    "        loss = criterion(outputs, torch.tensor([1]).long())  # assuming the class label is 1\n",
    "        loss.backward()\n",
    "        optimizer.step()\n",
    "    print(f'Epoch {epoch+1}, Loss: {loss.item()}')\n"
   ]
  },
  {
   "cell_type": "code",
   "execution_count": 3,
   "metadata": {},
   "outputs": [
    {
     "name": "stdout",
     "output_type": "stream",
     "text": [
      "The image is predicted as cat\n"
     ]
    }
   ],
   "source": [
    "\n",
    "\n",
    "transformed_image = notCAT.unsqueeze(0)  # Add batch dimension\n",
    "t2 = t2.unsqueeze(0)\n",
    "# Make sure the model is in evaluation mode\n",
    "model.eval()\n",
    "\n",
    "# Predict\n",
    "with torch.no_grad():\n",
    "    output = model(t2)\n",
    "    prediction = torch.argmax(output, dim=1)\n",
    "\n",
    "# Output the prediction\n",
    "# Assuming class 0 is 'non-cat' and class 1 is 'cat'\n",
    "if prediction.item() == 0:\n",
    "    print(\"The image is predicted as non-cat\")\n",
    "else:\n",
    "    print(\"The image is predicted as cat\")\n"
   ]
  },
  {
   "cell_type": "code",
   "execution_count": 5,
   "metadata": {},
   "outputs": [],
   "source": [
    "import torch\n",
    "import torchvision as transforms\n",
    "from torchvision import datasets\n",
    "from torch.utils.data import DataLoader\n",
    "import torch.nn as nn\n",
    "import torch.optim as optim\n"
   ]
  },
  {
   "cell_type": "code",
   "execution_count": 17,
   "metadata": {},
   "outputs": [
    {
     "name": "stdout",
     "output_type": "stream",
     "text": [
      "working\n",
      "going\n",
      "more\n",
      "again\n",
      "after\n",
      "start\n",
      "loop1\n"
     ]
    },
    {
     "name": "stderr",
     "output_type": "stream",
     "text": [
      "c:\\Users\\chaha\\anaconda3\\envs\\cs4262\\lib\\site-packages\\torchvision\\models\\_utils.py:208: UserWarning: The parameter 'pretrained' is deprecated since 0.13 and may be removed in the future, please use 'weights' instead.\n",
      "  warnings.warn(\n",
      "c:\\Users\\chaha\\anaconda3\\envs\\cs4262\\lib\\site-packages\\torchvision\\models\\_utils.py:223: UserWarning: Arguments other than a weight enum or `None` for 'weights' are deprecated since 0.13 and may be removed in the future. The current behavior is equivalent to passing `weights=None`.\n",
      "  warnings.warn(msg)\n"
     ]
    },
    {
     "name": "stdout",
     "output_type": "stream",
     "text": [
      "Epoch 1, Loss: 1.4430350941770218\n",
      "loop1\n",
      "Epoch 2, Loss: 0.8402264796051324\n",
      "loop1\n",
      "Epoch 3, Loss: 0.6074284399841346\n",
      "loop1\n",
      "Epoch 4, Loss: 0.4611408548320041\n",
      "loop1\n",
      "Epoch 5, Loss: 0.37654780377359953\n"
     ]
    }
   ],
   "source": [
    "import torch\n",
    "import torchvision\n",
    "from torchvision import transforms, models\n",
    "from torch.utils.data import Dataset, DataLoader\n",
    "from torch.nn import CrossEntropyLoss\n",
    "from torch.optim import SGD\n",
    "\n",
    "# Path to your dataset directory\n",
    "dataset_path = './trainingData'\n",
    "print('working')\n",
    "# Define transformations\n",
    "transform = transforms.Compose([\n",
    "    transforms.Resize((224, 224)),  # Resize the images to 224x224 (adjust as needed)\n",
    "    transforms.ToTensor(),  # Convert the images to PyTorch tensors\n",
    "    transforms.Normalize(mean=[0.485, 0.456, 0.406], std=[0.229, 0.224, 0.225])  # Normalize the images\n",
    "])\n",
    "print('going')\n",
    "# Load the dataset\n",
    "dataset = datasets.ImageFolder(root=dataset_path, transform=transform)\n",
    "\n",
    "# Create a DataLoader\n",
    "dataloader = DataLoader(dataset, batch_size=32, shuffle=True)  # Adjust batch size as needed\n",
    "print('more')\n",
    "# Define the model (example using ResNet18)\n",
    "model = models.resnet18(pretrained=False)\n",
    "num_ftrs = model.fc.in_features\n",
    "model.fc = nn.Linear(num_ftrs, 8)  # Adjust the output layer to match the number of classes\n",
    "print('again')\n",
    "# Define the loss function and optimizer\n",
    "criterion = nn.CrossEntropyLoss()\n",
    "optimizer = optim.SGD(model.parameters(), lr=0.001, momentum=0.9)\n",
    "print('after')\n",
    "# Training the model\n",
    "num_epochs = 5  # Set the number of epochs\n",
    "model.train()  # Set the model to training mode\n",
    "print('start')\n",
    "for epoch in range(num_epochs):\n",
    "    print('loop1')\n",
    "    total_loss = 0\n",
    "    for inputs, labels in dataloader:\n",
    "        #print('loop2')\n",
    "        optimizer.zero_grad()  # Zero the parameter gradients\n",
    "        outputs = model(inputs)  # Forward pass\n",
    "        loss = criterion(outputs, labels)  # Compute the loss\n",
    "        loss.backward()  # Backward pass\n",
    "        optimizer.step()  # Optimize\n",
    "\n",
    "        total_loss += loss.item()\n",
    "    print(f'Epoch {epoch+1}, Loss: {total_loss / len(dataloader)}')\n"
   ]
  },
  {
   "cell_type": "code",
   "execution_count": 19,
   "metadata": {},
   "outputs": [
    {
     "name": "stdout",
     "output_type": "stream",
     "text": [
      "Accuracy of the model on the test images: 88.73%\n"
     ]
    }
   ],
   "source": [
    "test_dataset = datasets.ImageFolder(root='./testingData', transform=transform)\n",
    "test_dataloader = DataLoader(test_dataset, batch_size=64, shuffle=False)\n",
    "model.eval()  # Set the model to evaluation mode\n",
    "\n",
    "correct = 0\n",
    "total = 0\n",
    "with torch.no_grad():\n",
    "    for inputs,labels in test_dataloader:\n",
    "        outputs = model(inputs)\n",
    "        _, predicted = torch.max(outputs.data, 1)  # Get the predicted classes\n",
    "        total += labels.size(0)\n",
    "        correct += (predicted == labels).sum().item()\n",
    "\n",
    "accuracy = correct / total\n",
    "print(f'Accuracy of the model on the test images: {accuracy * 100:.2f}%')"
   ]
  }
 ],
 "metadata": {
  "kernelspec": {
   "display_name": "Python 3",
   "language": "python",
   "name": "python3"
  },
  "language_info": {
   "codemirror_mode": {
    "name": "ipython",
    "version": 3
   },
   "file_extension": ".py",
   "mimetype": "text/x-python",
   "name": "python",
   "nbconvert_exporter": "python",
   "pygments_lexer": "ipython3",
   "version": "3.10.13"
  }
 },
 "nbformat": 4,
 "nbformat_minor": 2
}
