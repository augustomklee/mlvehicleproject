{
 "cells": [
  {
   "cell_type": "code",
   "execution_count": 1,
   "metadata": {},
   "outputs": [],
   "source": [
    "import torch\n",
    "from torchvision import datasets, transforms, models\n",
    "from torch.utils.data import DataLoader\n",
    "import torch.nn as nn\n",
    "import torch.optim as optim\n"
   ]
  },
  {
   "cell_type": "code",
   "execution_count": 11,
   "metadata": {},
   "outputs": [
    {
     "name": "stderr",
     "output_type": "stream",
     "text": [
      "c:\\Users\\chaha\\anaconda3\\envs\\cs4262\\lib\\site-packages\\torchvision\\models\\_utils.py:208: UserWarning: The parameter 'pretrained' is deprecated since 0.13 and may be removed in the future, please use 'weights' instead.\n",
      "  warnings.warn(\n",
      "c:\\Users\\chaha\\anaconda3\\envs\\cs4262\\lib\\site-packages\\torchvision\\models\\_utils.py:223: UserWarning: Arguments other than a weight enum or `None` for 'weights' are deprecated since 0.13 and may be removed in the future. The current behavior is equivalent to passing `weights=None`.\n",
      "  warnings.warn(msg)\n"
     ]
    },
    {
     "name": "stdout",
     "output_type": "stream",
     "text": [
      "Epoch 1, Loss: 1.4469191624837763\n",
      "Epoch 2, Loss: 0.8365283815884123\n",
      "Epoch 3, Loss: 0.5985229839296902\n",
      "Epoch 4, Loss: 0.472987896817572\n",
      "Epoch 5, Loss: 0.40570172828202156\n"
     ]
    }
   ],
   "source": [
    "# Path to your dataset directory\n",
    "dataset_path = './trainingData'\n",
    "# Define transformations\n",
    "transform = transforms.Compose([\n",
    "    transforms.Resize((224, 224)),  # Resize the images to 224x224 (adjust as needed)\n",
    "    transforms.ToTensor(),  # Convert the images to PyTorch tensors\n",
    "    transforms.Normalize(mean=[0.485, 0.456, 0.406], std=[0.229, 0.224, 0.225])  # Normalize the images\n",
    "])\n",
    "# Load the dataset\n",
    "dataset = datasets.ImageFolder(root=dataset_path, transform=transform)\n",
    "\n",
    "# Create a DataLoader\n",
    "dataloader = DataLoader(dataset, batch_size=32, shuffle=True)  # Adjust batch size as needed\n",
    "\n",
    "# Define the model (example using ResNet18)\n",
    "model = models.resnet18(pretrained=False)\n",
    "num_ftrs = model.fc.in_features\n",
    "model.fc = nn.Linear(num_ftrs, 8)  # Adjust the output layer to match the number of classes\n",
    "\n",
    "# Define the loss function and optimizer\n",
    "criterion = nn.CrossEntropyLoss()\n",
    "optimizer = optim.SGD(model.parameters(), lr=0.001, momentum=0.9)\n",
    "\n",
    "# Training the model\n",
    "num_epochs = 5  # Set the number of epochs\n",
    "model.train()  # Set the model to training mode\n",
    "\n",
    "for epoch in range(num_epochs):\n",
    "\n",
    "    total_loss = 0\n",
    "    for inputs, labels in dataloader:\n",
    "\n",
    "        optimizer.zero_grad()  # Zero the parameter gradients\n",
    "        outputs = model(inputs)  # Forward pass\n",
    "        loss = criterion(outputs, labels)  # Compute the loss\n",
    "        loss.backward()  # Backward pass\n",
    "        optimizer.step()  # Optimize\n",
    "\n",
    "        total_loss += loss.item()\n",
    "    print(f'Epoch {epoch+1}, Loss: {total_loss / len(dataloader)}')\n",
    "   # torch.save(model.state_dict(), 'model_state_dict.pth')\n",
    "\n"
   ]
  },
  {
   "cell_type": "code",
   "execution_count": 9,
   "metadata": {},
   "outputs": [
    {
     "name": "stderr",
     "output_type": "stream",
     "text": [
      "c:\\Users\\chaha\\anaconda3\\envs\\cs4262\\lib\\site-packages\\torchvision\\models\\_utils.py:208: UserWarning: The parameter 'pretrained' is deprecated since 0.13 and may be removed in the future, please use 'weights' instead.\n",
      "  warnings.warn(\n",
      "c:\\Users\\chaha\\anaconda3\\envs\\cs4262\\lib\\site-packages\\torchvision\\models\\_utils.py:223: UserWarning: Arguments other than a weight enum or `None` for 'weights' are deprecated since 0.13 and may be removed in the future. The current behavior is equivalent to passing `weights=None`.\n",
      "  warnings.warn(msg)\n"
     ]
    },
    {
     "data": {
      "text/plain": [
       "<All keys matched successfully>"
      ]
     },
     "execution_count": 9,
     "metadata": {},
     "output_type": "execute_result"
    }
   ],
   "source": [
    "model = models.resnet18(pretrained=False)\n",
    "model.fc = nn.Linear(num_ftrs, 8)  # Re-establish the modified fully connected layer\n",
    "model.load_state_dict(torch.load('model_state_dict.pth'))"
   ]
  },
  {
   "cell_type": "code",
   "execution_count": 5,
   "metadata": {},
   "outputs": [
    {
     "name": "stdout",
     "output_type": "stream",
     "text": [
      "Airplane: 0.0000\n",
      "Bike: 0.0042\n",
      "Boat: 0.0000\n",
      "motorbus: 0.0000\n",
      "motorcycle: 0.9946\n",
      "seaplane: 0.0000\n",
      "train: 0.0000\n",
      "truck: 0.0011\n",
      "\n",
      "Predicted class: motorcycle with highest probability 0.9946\n"
     ]
    }
   ],
   "source": [
    "from PIL import Image\n",
    "\n",
    "# Function to load and transform an image\n",
    "def load_image(image_path):\n",
    "    image = Image.open(image_path).convert('RGB')\n",
    "    transform = transforms.Compose([\n",
    "        transforms.Resize((224, 224)),  # Resize the image to what the model expects\n",
    "        transforms.ToTensor(),\n",
    "        transforms.Normalize(mean=[0.485, 0.456, 0.406], std=[0.229, 0.224, 0.225])\n",
    "    ])\n",
    "    # Add an extra batch dimension since PyTorch treats all inputs as batches\n",
    "    image = transform(image).unsqueeze(0)\n",
    "    return image\n",
    "\n",
    "# Path to your image\n",
    "image_path = './real3.jpg'\n",
    "\n",
    "# Load and transform the image\n",
    "image = load_image(image_path)\n",
    "\n",
    "# Set the model to evaluation mode\n",
    "model.eval()\n",
    "\n",
    "# No gradient is needed to be computed\n",
    "with torch.no_grad():\n",
    "    output = model(image)\n",
    "    # Convert output probabilities to predicted class (assuming you have 8 classes)\n",
    "    probabilities = torch.nn.functional.softmax(output, dim=1)\n",
    "    predicted_class = probabilities.argmax(dim=1)\n",
    "\n",
    "class_labels = ['Airplane', 'Bike', 'Boat', 'motorbus', 'motorcycle', 'seaplane', 'train', 'truck']\n",
    "\n",
    "# Print probabilities for each class\n",
    "for idx, prob in enumerate(probabilities.squeeze(0)):\n",
    "    print(f'{class_labels[idx]}: {prob.item():.4f}')\n",
    "\n",
    "print(f'\\nPredicted class: {class_labels[predicted_class.item()]} with highest probability {probabilities.max().item():.4f}')"
   ]
  },
  {
   "cell_type": "code",
   "execution_count": 12,
   "metadata": {},
   "outputs": [
    {
     "name": "stdout",
     "output_type": "stream",
     "text": [
      "Accuracy of the model on the test images: 85.29%\n"
     ]
    }
   ],
   "source": [
    "test_dataset = datasets.ImageFolder(root='./testingData', transform=transform)\n",
    "test_dataloader = DataLoader(test_dataset, batch_size=64, shuffle=False)\n",
    "model.eval()  # Set the model to evaluation mode\n",
    "\n",
    "correct = 0\n",
    "total = 0\n",
    "with torch.no_grad():\n",
    "    for inputs,labels in test_dataloader:\n",
    "        outputs = model(inputs)\n",
    "        _, predicted = torch.max(outputs.data, 1)  # Get the predicted classes\n",
    "        total += labels.size(0)\n",
    "        correct += (predicted == labels).sum().item()\n",
    "\n",
    "accuracy = correct / total\n",
    "print(f'Accuracy of the model on the test images: {accuracy * 100:.2f}%')"
   ]
  },
  {
   "cell_type": "code",
   "execution_count": 13,
   "metadata": {},
   "outputs": [
    {
     "name": "stdout",
     "output_type": "stream",
     "text": [
      "              precision    recall  f1-score   support\n",
      "\n",
      "           0       0.91      0.89      0.90       101\n",
      "           1       0.89      0.88      0.89        75\n",
      "           2       0.93      0.87      0.90       133\n",
      "           3       0.67      0.53      0.59        64\n",
      "           4       0.79      0.99      0.88       147\n",
      "           5       0.90      0.87      0.89        71\n",
      "           6       0.78      0.64      0.70        61\n",
      "           7       0.88      0.87      0.87       164\n",
      "\n",
      "    accuracy                           0.85       816\n",
      "   macro avg       0.84      0.82      0.83       816\n",
      "weighted avg       0.85      0.85      0.85       816\n",
      "\n"
     ]
    }
   ],
   "source": [
    "from sklearn.metrics import classification_report\n",
    "\n",
    "# Set the model to evaluation mode\n",
    "model.eval()\n",
    "\n",
    "# Create empty lists to store the true labels and predicted labels\n",
    "true_labels = []\n",
    "predicted_labels = []\n",
    "\n",
    "# No gradient is needed to be computed\n",
    "with torch.no_grad():\n",
    "    for inputs, labels in test_dataloader:\n",
    "        outputs = model(inputs)\n",
    "        _, predicted = torch.max(outputs.data, 1)  # Get the predicted classes\n",
    "        \n",
    "        true_labels.extend(labels.tolist())\n",
    "        predicted_labels.extend(predicted.tolist())\n",
    "\n",
    "# Generate the classification report\n",
    "report = classification_report(true_labels, predicted_labels)\n",
    "\n",
    "print(report)\n"
   ]
  }
 ],
 "metadata": {
  "kernelspec": {
   "display_name": "Python 3",
   "language": "python",
   "name": "python3"
  },
  "language_info": {
   "codemirror_mode": {
    "name": "ipython",
    "version": 3
   },
   "file_extension": ".py",
   "mimetype": "text/x-python",
   "name": "python",
   "nbconvert_exporter": "python",
   "pygments_lexer": "ipython3",
   "version": "3.10.13"
  }
 },
 "nbformat": 4,
 "nbformat_minor": 2
}
